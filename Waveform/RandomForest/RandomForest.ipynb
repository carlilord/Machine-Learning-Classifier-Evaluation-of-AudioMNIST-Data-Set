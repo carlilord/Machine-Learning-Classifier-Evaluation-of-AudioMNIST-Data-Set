{
 "cells": [
  {
   "cell_type": "code",
   "execution_count": 4,
   "metadata": {},
   "outputs": [],
   "source": [
    "import h5py\n",
    "import numpy as np\n",
    "from sklearn.model_selection import train_test_split\n",
    "import tensorflow as tf\n",
    "from tensorflow.keras import datasets, layers, models, callbacks\n",
    "from keras.models import Sequential\n",
    "from keras.layers import Dense, Activation\n",
    "from tensorflow.keras.optimizers import SGD\n",
    "from os import listdir\n",
    "from os.path import isfile, join\n",
    "from datetime import datetime\n",
    "from os import listdir\n",
    "from os.path import isfile, join\n",
    "\n",
    "import matplotlib.pyplot as plt\n",
    "\n",
    "from sklearn.ensemble import RandomForestClassifier\n",
    "from sklearn.metrics import f1_score\n",
    "from sklearn.metrics import accuracy_score\n",
    "from sklearn.metrics import roc_curve\n",
    "from sklearn.metrics import plot_confusion_matrix\n",
    "from keras.callbacks import ModelCheckpoint\n",
    "from sklearn.metrics import accuracy_score\n",
    "from sklearn.metrics import confusion_matrix\n",
    "\n",
    "\n",
    "# Importing custom framework\n",
    "import sys, os\n",
    "sys.path.insert(0, os.path.abspath('../..'))\n",
    "from data_split import prepare_data_waveform"
   ]
  },
  {
   "cell_type": "code",
   "execution_count": 5,
   "metadata": {},
   "outputs": [],
   "source": [
    "waveformPath = '../../merged/waveform.hdf5'"
   ]
  },
  {
   "cell_type": "code",
   "execution_count": 12,
   "metadata": {},
   "outputs": [
    {
     "name": "stdout",
     "output_type": "stream",
     "text": [
      "(6000, 8000)\n"
     ]
    }
   ],
   "source": [
    "X_train, X_val, X_test, y_train, y_val, y_test = prepare_data_waveform(waveformPath)\n",
    "X_train = X_train.reshape(X_train.shape[0], X_train.shape[2])\n",
    "X_val = X_val.reshape(X_val.shape[0], X_val.shape[2])\n",
    "X_test = X_test.reshape(X_test.shape[0], X_test.shape[2])"
   ]
  },
  {
   "cell_type": "markdown",
   "metadata": {},
   "source": [
    "<h2>Experiment 1</h2>"
   ]
  },
  {
   "cell_type": "code",
   "execution_count": 13,
   "metadata": {},
   "outputs": [
    {
     "name": "stdout",
     "output_type": "stream",
     "text": [
      "train accuracy score: \n",
      "0.26594444444444443\n",
      "validation accuracy score: \n",
      "0.21483333333333332\n"
     ]
    }
   ],
   "source": [
    "RF_model = RandomForestClassifier(min_samples_leaf=3, n_estimators=50, min_samples_split=10, max_features='sqrt', max_depth=6, random_state=0)\n",
    "RF_model.fit(X_train, y_train)\n",
    "\n",
    "print('train accuracy score: ')\n",
    "print(RF_model.score(X_train, y_train))\n",
    "print('validation accuracy score: ')\n",
    "print(RF_model.score(X_val, y_val))"
   ]
  },
  {
   "cell_type": "markdown",
   "metadata": {},
   "source": [
    "<h2>Experiment 2</h2>"
   ]
  },
  {
   "cell_type": "code",
   "execution_count": 14,
   "metadata": {},
   "outputs": [
    {
     "name": "stdout",
     "output_type": "stream",
     "text": [
      "train accuracy score: \n",
      "1.0\n",
      "validation accuracy score: \n",
      "0.36983333333333335\n"
     ]
    }
   ],
   "source": [
    "standard_model = RandomForestClassifier()\n",
    "standard_model.fit(X_train, y_train)\n",
    "print('train accuracy score: ')\n",
    "print(standard_model.score(X_train, y_train))\n",
    "print('validation accuracy score: ')\n",
    "print(standard_model.score(X_val, y_val))"
   ]
  },
  {
   "cell_type": "markdown",
   "metadata": {},
   "source": [
    "<h2>Experiment 3</h2>"
   ]
  },
  {
   "cell_type": "code",
   "execution_count": 15,
   "metadata": {},
   "outputs": [
    {
     "name": "stdout",
     "output_type": "stream",
     "text": [
      "train accuracy score: \n",
      "1.0\n",
      "validation accuracy score: \n",
      "0.37283333333333335\n"
     ]
    }
   ],
   "source": [
    "model3 = RandomForestClassifier(n_estimators=120)\n",
    "model3.fit(X_train, y_train)\n",
    "print('train accuracy score: ')\n",
    "print(model3.score(X_train, y_train))\n",
    "print('validation accuracy score: ')\n",
    "print(model3.score(X_val, y_val))"
   ]
  },
  {
   "cell_type": "code",
   "execution_count": 16,
   "metadata": {},
   "outputs": [
    {
     "name": "stdout",
     "output_type": "stream",
     "text": [
      "\n",
      "test accuracy score: \n",
      "0.42033333333333334\n"
     ]
    }
   ],
   "source": [
    "print()\n",
    "print('test accuracy score: ')\n",
    "print(model3.score(X_test, y_test))"
   ]
  },
  {
   "cell_type": "code",
   "execution_count": null,
   "metadata": {},
   "outputs": [],
   "source": [
    "confusion_matrix(y_val, model3.predict(X_val))"
   ]
  },
  {
   "cell_type": "code",
   "execution_count": null,
   "metadata": {},
   "outputs": [],
   "source": [
    "fig, ax = plt.subplots(figsize=(11, 11))\n",
    "plot_confusion_matrix(model3, X_val, y_val, normalize='true', ax=ax)"
   ]
  },
  {
   "cell_type": "markdown",
   "metadata": {},
   "source": [
    "<h2>Experiment 4</h2>"
   ]
  },
  {
   "cell_type": "code",
   "execution_count": 17,
   "metadata": {},
   "outputs": [
    {
     "name": "stdout",
     "output_type": "stream",
     "text": [
      "train accuracy score: \n",
      "1.0\n",
      "validation accuracy score: \n",
      "0.3998333333333333\n"
     ]
    }
   ],
   "source": [
    "model4 = RandomForestClassifier(n_estimators=800, max_depth=35)\n",
    "model4.fit(X_train, y_train)\n",
    "print('train accuracy score: ')\n",
    "print(model4.score(X_train, y_train))\n",
    "print('validation accuracy score: ')\n",
    "print(model4.score(X_val, y_val))"
   ]
  },
  {
   "cell_type": "code",
   "execution_count": null,
   "metadata": {},
   "outputs": [],
   "source": []
  }
 ],
 "metadata": {
  "kernelspec": {
   "display_name": "Python 3",
   "language": "python",
   "name": "python3"
  },
  "language_info": {
   "codemirror_mode": {
    "name": "ipython",
    "version": 3
   },
   "file_extension": ".py",
   "mimetype": "text/x-python",
   "name": "python",
   "nbconvert_exporter": "python",
   "pygments_lexer": "ipython3",
   "version": "3.7.6"
  }
 },
 "nbformat": 4,
 "nbformat_minor": 2
}
