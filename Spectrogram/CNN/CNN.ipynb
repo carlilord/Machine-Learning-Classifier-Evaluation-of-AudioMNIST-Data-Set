{
 "cells": [
  {
   "cell_type": "code",
   "execution_count": 1,
   "metadata": {},
   "outputs": [],
   "source": [
    "from __future__ import absolute_import, division, print_function, unicode_literals\n",
    "\n",
    "from tensorflow import keras\n",
    "### hack tf-keras to appear as top level keras\n",
    "import sys\n",
    "sys.modules['keras'] = keras\n",
    "### end of hack\n",
    "\n",
    "import keras.backend as K\n",
    "from keras.utils import multi_gpu_model\n",
    "from keras.callbacks import TensorBoard\n",
    "\n",
    "from sklearn.model_selection import KFold\n",
    "\n",
    "import h5py\n",
    "import numpy as np\n",
    "import tensorflow as tf\n",
    "from tensorflow.keras import datasets, layers, models, callbacks\n",
    "from keras.callbacks import *\n",
    "from keras.models import Sequential\n",
    "from keras.layers import Dense, Activation\n",
    "from tensorflow.keras.optimizers import SGD\n",
    "import numpy as np\n",
    "import pprint\n",
    "import os\n",
    "from os import listdir\n",
    "from os.path import isfile, join\n",
    "from datetime import datetime\n",
    "\n",
    "# Importing custom framework\n",
    "import sys, os\n",
    "sys.path.insert(0, os.path.abspath('../..'))\n",
    "from data_split import prepare_data_spectrogram"
   ]
  },
  {
   "cell_type": "code",
   "execution_count": 2,
   "metadata": {},
   "outputs": [],
   "source": [
    "def build_cnn():\n",
    "    model = models.Sequential()\n",
    "\n",
    "    model.add(layers.Conv2D(227, (3, 1), activation='relu', input_shape=(227, 227, 1)))\n",
    "    model.add(layers.MaxPooling2D((3, 1), 2))\n",
    "    \n",
    "    model.add(layers.Conv2D(64, (3, 1), activation='relu'))\n",
    "    model.add(layers.MaxPooling2D((2, 1), 2))\n",
    "    \n",
    "    model.add(layers.Conv2D(128, (3, 1), activation='relu'))\n",
    "    model.add(layers.MaxPooling2D((2, 1), 2))\n",
    "    \n",
    "    model.add(layers.Conv2D(128, (3, 1), activation='relu'))\n",
    "    model.add(layers.MaxPooling2D((2, 1), 2))\n",
    "    \n",
    "    model.add(layers.Conv2D(128, (3, 1), activation='relu'))\n",
    "    model.add(layers.MaxPooling2D((2, 1), 2))\n",
    "    \n",
    "    #Fully Connected Part\n",
    "    model.add(layers.Flatten())\n",
    "    \n",
    "    model.add(layers.Dense(1024))#, input_dim=1024\n",
    "    model.add(layers.Dropout(0.5, seed=1337))\n",
    "    model.add(layers.Activation('relu'))\n",
    "    \n",
    "    model.add(layers.Dense(512))#, input_dim=1024\n",
    "    model.add(layers.Dropout(0.5, seed=1337))\n",
    "    model.add(layers.Activation('relu'))\n",
    "    \n",
    "    model.add(layers.Dense(10, input_dim=512))\n",
    "    model.add(layers.Activation('softmax'))\n",
    "    return model"
   ]
  },
  {
   "cell_type": "code",
   "execution_count": 3,
   "metadata": {},
   "outputs": [],
   "source": [
    "spectrogramPath = '../../merged/spectrogram.hdf5'\n",
    "X_train, X_val, X_test, y_train, y_val, y_test = prepare_data_spectrogram(spectrogramPath, False)\n",
    "X_train = tf.transpose(X_train, [0, 2, 3, 1])\n",
    "X_val = tf.transpose(X_val, [0, 2, 3, 1])\n",
    "X_test = tf.transpose(X_test, [0, 2, 3, 1])"
   ]
  },
  {
   "cell_type": "code",
   "execution_count": 4,
   "metadata": {},
   "outputs": [
    {
     "name": "stdout",
     "output_type": "stream",
     "text": [
      "(18000, 227, 227, 1)\n"
     ]
    }
   ],
   "source": [
    "# Decrease training data size to make training feasable\n",
    "#X_temp = []\n",
    "#y_temp = []\n",
    "#n = 300\n",
    "#count_dict = dict.fromkeys(range(0, 10), 0)\n",
    "#for i in range(len(y_train)):\n",
    "#    curr = y_train[i]\n",
    "#    if count_dict[curr] >= n:\n",
    "#        finished = True\n",
    "#        for x in count_dict.values():\n",
    "#            if x < 300:\n",
    "#                finished = False\n",
    "#                break\n",
    "#        if finished == True:\n",
    "##            break\n",
    "#    else:\n",
    "#        count_dict[curr] = count_dict[curr] + 1\n",
    "#        X_temp.append(X_train[i])\n",
    "#        y_temp.append(curr)\n",
    "        \n",
    "#X_train = np.array(X_temp)\n",
    "#y_train = np.array(y_temp)\n",
    "print(X_train.shape)"
   ]
  },
  {
   "cell_type": "code",
   "execution_count": 5,
   "metadata": {},
   "outputs": [
    {
     "name": "stdout",
     "output_type": "stream",
     "text": [
      "WARNING:tensorflow:`write_grads` will be ignored in TensorFlow 2.0 for the `TensorBoard` Callback.\n"
     ]
    }
   ],
   "source": [
    "#tf.reset_default_graph()\n",
    "\n",
    "tbCallBack = TensorBoard(log_dir='logs', histogram_freq=1,\n",
    "                         write_graph=True,\n",
    "                         write_grads=True,\n",
    "                         write_images=True)\n",
    "\n",
    "earlyStopping = tf.keras.callbacks.EarlyStopping(monitor='val_loss', patience=3)\n",
    "\n",
    "opt = SGD(lr=0.001, momentum=0.9, clipvalue=5)"
   ]
  },
  {
   "cell_type": "markdown",
   "metadata": {},
   "source": [
    "# Experiment 1"
   ]
  },
  {
   "cell_type": "code",
   "execution_count": 6,
   "metadata": {},
   "outputs": [
    {
     "name": "stdout",
     "output_type": "stream",
     "text": [
      "Epoch 1/100\n",
      "563/563 [==============================] - 1096s 2s/step - loss: 2.3090 - accuracy: 0.1369 - val_loss: 2.2844 - val_accuracy: 0.2370\n",
      "Epoch 2/100\n",
      "563/563 [==============================] - 1098s 2s/step - loss: 2.1454 - accuracy: 0.2280 - val_loss: 1.5899 - val_accuracy: 0.4503\n",
      "Epoch 3/100\n",
      "563/563 [==============================] - 1113s 2s/step - loss: 1.6153 - accuracy: 0.4158 - val_loss: 1.4646 - val_accuracy: 0.4663\n",
      "Epoch 4/100\n",
      "563/563 [==============================] - 1108s 2s/step - loss: 1.3019 - accuracy: 0.5321 - val_loss: 1.4942 - val_accuracy: 0.4695\n",
      "Epoch 5/100\n",
      "563/563 [==============================] - 1112s 2s/step - loss: 1.0107 - accuracy: 0.6398 - val_loss: 1.0531 - val_accuracy: 0.6160\n",
      "Epoch 6/100\n",
      "563/563 [==============================] - 1111s 2s/step - loss: 0.7501 - accuracy: 0.7361 - val_loss: 0.9644 - val_accuracy: 0.6498\n",
      "Epoch 7/100\n",
      "563/563 [==============================] - 1109s 2s/step - loss: 0.5825 - accuracy: 0.8008 - val_loss: 0.8513 - val_accuracy: 0.6948\n",
      "Epoch 8/100\n",
      "563/563 [==============================] - 1109s 2s/step - loss: 0.4590 - accuracy: 0.8407 - val_loss: 0.7035 - val_accuracy: 0.7560\n",
      "Epoch 9/100\n",
      "563/563 [==============================] - 1111s 2s/step - loss: 0.3900 - accuracy: 0.8669 - val_loss: 0.7751 - val_accuracy: 0.7378\n",
      "Epoch 10/100\n",
      "563/563 [==============================] - 1110s 2s/step - loss: 0.3346 - accuracy: 0.8875 - val_loss: 0.6155 - val_accuracy: 0.7900\n",
      "Epoch 11/100\n",
      "563/563 [==============================] - 1110s 2s/step - loss: 0.2802 - accuracy: 0.9037 - val_loss: 0.5563 - val_accuracy: 0.8118\n",
      "Epoch 12/100\n",
      "563/563 [==============================] - 1111s 2s/step - loss: 0.2502 - accuracy: 0.9138 - val_loss: 0.4657 - val_accuracy: 0.8462\n",
      "Epoch 13/100\n",
      "563/563 [==============================] - 1112s 2s/step - loss: 0.2201 - accuracy: 0.9232 - val_loss: 0.6459 - val_accuracy: 0.7822\n",
      "Epoch 14/100\n",
      "563/563 [==============================] - 1110s 2s/step - loss: 0.2072 - accuracy: 0.9304 - val_loss: 0.6121 - val_accuracy: 0.7992\n",
      "Epoch 15/100\n",
      "563/563 [==============================] - 1112s 2s/step - loss: 0.1934 - accuracy: 0.9328 - val_loss: 0.6184 - val_accuracy: 0.8010\n"
     ]
    }
   ],
   "source": [
    "K.clear_session()\n",
    "model = build_cnn()\n",
    "model.compile(optimizer=opt, loss='sparse_categorical_crossentropy', metrics=['accuracy'])\n",
    "\n",
    "filepath = \"logs/epochs:{epoch:03d}-val_acc:{val_acc:.3f}.hdf5\"\n",
    "checkpoint = ModelCheckpoint(filepath, monitor='val_acc', verbose=1, save_best_only=True, mode='max')\n",
    "\n",
    "training_history = model.fit(X_train, y_train, epochs=100, validation_data=(X_val, y_val),batch_size=32, callbacks=[earlyStopping, tbCallBack], shuffle=False)\n",
    "# Generate generalization metrics\n",
    "#scores = model.evaluate(X_val, y_val, verbose=0)\n",
    "#print(f'Score {scores}')\n",
    "\n",
    "    \n",
    "#val_scores = model.evaluate(X_val, y_val, verbose=0)\n",
    "#print(val_score)"
   ]
  },
  {
   "cell_type": "code",
   "execution_count": 8,
   "metadata": {},
   "outputs": [
    {
     "name": "stdout",
     "output_type": "stream",
     "text": [
      "[0.49310582876205444, 0.8511666655540466]\n"
     ]
    }
   ],
   "source": [
    "print(model.evaluate(X_test, y_test, verbose=0))"
   ]
  },
  {
   "cell_type": "code",
   "execution_count": 9,
   "metadata": {},
   "outputs": [
    {
     "name": "stdout",
     "output_type": "stream",
     "text": [
      "WARNING:tensorflow:`write_grads` will be ignored in TensorFlow 2.0 for the `TensorBoard` Callback.\n",
      "Epoch 1/100\n",
      "563/563 [==============================] - 1112s 2s/step - loss: 2.3378 - accuracy: 0.0999 - val_loss: 2.3006 - val_accuracy: 0.1097\n",
      "Epoch 2/100\n",
      "563/563 [==============================] - 1107s 2s/step - loss: 2.3046 - accuracy: 0.1053 - val_loss: 2.2969 - val_accuracy: 0.1493\n",
      "Epoch 3/100\n",
      "563/563 [==============================] - 1108s 2s/step - loss: 2.3014 - accuracy: 0.1062 - val_loss: 2.2933 - val_accuracy: 0.1388\n",
      "Epoch 4/100\n",
      "563/563 [==============================] - 1107s 2s/step - loss: 2.2990 - accuracy: 0.1113 - val_loss: 2.2939 - val_accuracy: 0.1052\n",
      "Epoch 5/100\n",
      "563/563 [==============================] - 1109s 2s/step - loss: 2.2932 - accuracy: 0.1215 - val_loss: 2.2765 - val_accuracy: 0.2422\n",
      "Epoch 6/100\n",
      "563/563 [==============================] - 1109s 2s/step - loss: 2.2748 - accuracy: 0.1446 - val_loss: 2.2293 - val_accuracy: 0.3527\n",
      "Epoch 7/100\n",
      "563/563 [==============================] - 1109s 2s/step - loss: 2.2259 - accuracy: 0.1786 - val_loss: 2.1115 - val_accuracy: 0.3605\n",
      "Epoch 8/100\n",
      "563/563 [==============================] - 1110s 2s/step - loss: 2.1063 - accuracy: 0.2353 - val_loss: 1.9377 - val_accuracy: 0.3975\n",
      "Epoch 9/100\n",
      "563/563 [==============================] - 1110s 2s/step - loss: 1.9238 - accuracy: 0.3007 - val_loss: 1.6850 - val_accuracy: 0.4848\n",
      "Epoch 10/100\n",
      "563/563 [==============================] - 1109s 2s/step - loss: 1.6651 - accuracy: 0.4027 - val_loss: 1.2908 - val_accuracy: 0.6057\n",
      "Epoch 11/100\n",
      "563/563 [==============================] - 1109s 2s/step - loss: 1.3851 - accuracy: 0.5052 - val_loss: 1.0403 - val_accuracy: 0.6685\n",
      "Epoch 12/100\n",
      "563/563 [==============================] - 1109s 2s/step - loss: 1.1379 - accuracy: 0.5964 - val_loss: 1.0451 - val_accuracy: 0.6482\n",
      "Epoch 13/100\n",
      "563/563 [==============================] - 1110s 2s/step - loss: 0.9664 - accuracy: 0.6587 - val_loss: 0.7181 - val_accuracy: 0.7685\n",
      "Epoch 14/100\n",
      "563/563 [==============================] - 1110s 2s/step - loss: 0.8320 - accuracy: 0.7092 - val_loss: 0.7468 - val_accuracy: 0.7550\n",
      "Epoch 15/100\n",
      "563/563 [==============================] - 1111s 2s/step - loss: 0.7173 - accuracy: 0.7524 - val_loss: 0.6841 - val_accuracy: 0.7642\n",
      "Epoch 16/100\n",
      "563/563 [==============================] - 1111s 2s/step - loss: 0.6462 - accuracy: 0.7780 - val_loss: 0.7319 - val_accuracy: 0.7472\n",
      "Epoch 17/100\n",
      "563/563 [==============================] - 1111s 2s/step - loss: 0.5849 - accuracy: 0.8011 - val_loss: 0.5993 - val_accuracy: 0.7935\n",
      "Epoch 18/100\n",
      "563/563 [==============================] - 1121s 2s/step - loss: 0.5296 - accuracy: 0.8203 - val_loss: 0.7522 - val_accuracy: 0.7363\n",
      "Epoch 19/100\n",
      "563/563 [==============================] - 1117s 2s/step - loss: 0.4892 - accuracy: 0.8330 - val_loss: 0.5788 - val_accuracy: 0.7975\n",
      "Epoch 20/100\n",
      "563/563 [==============================] - 1115s 2s/step - loss: 0.4492 - accuracy: 0.8489 - val_loss: 0.6418 - val_accuracy: 0.7798\n",
      "Epoch 21/100\n",
      "563/563 [==============================] - 1115s 2s/step - loss: 0.4219 - accuracy: 0.8564 - val_loss: 0.5873 - val_accuracy: 0.8023\n",
      "Epoch 22/100\n",
      "563/563 [==============================] - 1117s 2s/step - loss: 0.3963 - accuracy: 0.8677 - val_loss: 0.6869 - val_accuracy: 0.7693\n",
      "Epoch 23/100\n",
      "563/563 [==============================] - 1115s 2s/step - loss: 0.3694 - accuracy: 0.8766 - val_loss: 0.9277 - val_accuracy: 0.6910\n",
      "Epoch 24/100\n",
      "563/563 [==============================] - 1116s 2s/step - loss: 0.3623 - accuracy: 0.8772 - val_loss: 0.8011 - val_accuracy: 0.7293\n",
      "Epoch 25/100\n",
      "563/563 [==============================] - 1117s 2s/step - loss: 0.3518 - accuracy: 0.8817 - val_loss: 0.8033 - val_accuracy: 0.7222\n",
      "Epoch 26/100\n",
      "563/563 [==============================] - 1117s 2s/step - loss: 0.3236 - accuracy: 0.8927 - val_loss: 0.8730 - val_accuracy: 0.7133\n",
      "Epoch 27/100\n",
      "563/563 [==============================] - 1116s 2s/step - loss: 0.3163 - accuracy: 0.8931 - val_loss: 0.6058 - val_accuracy: 0.7958\n",
      "[0.45419758558273315, 0.843999981880188]\n"
     ]
    }
   ],
   "source": [
    "tbCallBack = TensorBoard(log_dir='logs', histogram_freq=1,\n",
    "                         write_graph=True,\n",
    "                         write_grads=True,\n",
    "                         write_images=True)\n",
    "\n",
    "earlyStopping = tf.keras.callbacks.EarlyStopping(monitor='val_loss', patience=8)\n",
    "\n",
    "opt = SGD(lr=0.0001, momentum=0.9, clipvalue=5)\n",
    "K.clear_session()\n",
    "model = build_cnn()\n",
    "model.compile(optimizer=opt, loss='sparse_categorical_crossentropy', metrics=['accuracy'])\n",
    "\n",
    "filepath = \"logs/epochs:{epoch:03d}-val_acc:{val_acc:.3f}.hdf5\"\n",
    "checkpoint = ModelCheckpoint(filepath, monitor='val_acc', verbose=1, save_best_only=True, mode='max')\n",
    "\n",
    "training_history = model.fit(X_train, y_train, epochs=100, validation_data=(X_val, y_val),batch_size=32, callbacks=[earlyStopping, tbCallBack], shuffle=False)\n",
    "print(model.evaluate(X_test, y_test, verbose=0))"
   ]
  },
  {
   "cell_type": "code",
   "execution_count": 10,
   "metadata": {},
   "outputs": [
    {
     "name": "stdout",
     "output_type": "stream",
     "text": [
      "WARNING:tensorflow:`write_grads` will be ignored in TensorFlow 2.0 for the `TensorBoard` Callback.\n",
      "Epoch 1/100\n",
      "563/563 [==============================] - 1115s 2s/step - loss: 1.8048 - accuracy: 0.3218 - val_loss: 1.3985 - val_accuracy: 0.5412\n",
      "Epoch 2/100\n",
      "563/563 [==============================] - 1114s 2s/step - loss: 0.5836 - accuracy: 0.7991 - val_loss: 0.4918 - val_accuracy: 0.8280\n",
      "Epoch 3/100\n",
      "563/563 [==============================] - 1116s 2s/step - loss: 0.2978 - accuracy: 0.9027 - val_loss: 0.5302 - val_accuracy: 0.8100\n",
      "Epoch 4/100\n",
      "563/563 [==============================] - 1115s 2s/step - loss: 0.2046 - accuracy: 0.9341 - val_loss: 0.7322 - val_accuracy: 0.8107\n",
      "Epoch 5/100\n",
      "563/563 [==============================] - 1114s 2s/step - loss: 0.1964 - accuracy: 0.9353 - val_loss: 0.8702 - val_accuracy: 0.7768\n",
      "Epoch 6/100\n",
      "563/563 [==============================] - 1115s 2s/step - loss: 0.1522 - accuracy: 0.9507 - val_loss: 0.7877 - val_accuracy: 0.7947\n",
      "Epoch 7/100\n",
      "563/563 [==============================] - 1114s 2s/step - loss: 0.1319 - accuracy: 0.9576 - val_loss: 0.6663 - val_accuracy: 0.8383\n",
      "Epoch 8/100\n",
      "563/563 [==============================] - 1115s 2s/step - loss: 0.1211 - accuracy: 0.9599 - val_loss: 0.6738 - val_accuracy: 0.8415\n",
      "Epoch 9/100\n",
      "563/563 [==============================] - 1115s 2s/step - loss: 0.1359 - accuracy: 0.9562 - val_loss: 0.4956 - val_accuracy: 0.8845\n",
      "Epoch 10/100\n",
      "563/563 [==============================] - 1115s 2s/step - loss: 0.1099 - accuracy: 0.9661 - val_loss: 0.6742 - val_accuracy: 0.8507\n",
      "[0.6579708456993103, 0.8521666526794434]\n"
     ]
    }
   ],
   "source": [
    "tbCallBack = TensorBoard(log_dir='logs', histogram_freq=1,\n",
    "                         write_graph=True,\n",
    "                         write_grads=True,\n",
    "                         write_images=True)\n",
    "\n",
    "earlyStopping = tf.keras.callbacks.EarlyStopping(monitor='val_loss', patience=8)\n",
    "\n",
    "opt = keras.optimizers.Adam(learning_rate=0.001)\n",
    "K.clear_session()\n",
    "model = build_cnn()\n",
    "model.compile(optimizer=opt, loss='sparse_categorical_crossentropy', metrics=['accuracy'])\n",
    "\n",
    "filepath = \"logs/Ex3Epochs:{epoch:03d}-val_acc:{val_acc:.3f}.hdf5\"\n",
    "checkpoint = ModelCheckpoint(filepath, monitor='val_acc', verbose=1, save_best_only=True, mode='max')\n",
    "\n",
    "training_history = model.fit(X_train, y_train, epochs=100, validation_data=(X_val, y_val),batch_size=32, callbacks=[earlyStopping, tbCallBack], shuffle=False)\n",
    "print(model.evaluate(X_test, y_test, verbose=0))"
   ]
  },
  {
   "cell_type": "code",
   "execution_count": 11,
   "metadata": {},
   "outputs": [
    {
     "name": "stdout",
     "output_type": "stream",
     "text": [
      "WARNING:tensorflow:`write_grads` will be ignored in TensorFlow 2.0 for the `TensorBoard` Callback.\n",
      "Epoch 1/100\n",
      "563/563 [==============================] - 1114s 2s/step - loss: 1.9394 - accuracy: 0.2859 - val_loss: 0.9532 - val_accuracy: 0.6633\n",
      "Epoch 2/100\n",
      "563/563 [==============================] - 1117s 2s/step - loss: 0.6759 - accuracy: 0.7660 - val_loss: 0.5231 - val_accuracy: 0.8202\n",
      "Epoch 3/100\n",
      "563/563 [==============================] - 1118s 2s/step - loss: 0.3717 - accuracy: 0.8736 - val_loss: 0.6636 - val_accuracy: 0.7730\n",
      "Epoch 4/100\n",
      "563/563 [==============================] - 1117s 2s/step - loss: 0.2702 - accuracy: 0.9076 - val_loss: 0.5346 - val_accuracy: 0.8212\n",
      "Epoch 5/100\n",
      "563/563 [==============================] - 1118s 2s/step - loss: 0.2295 - accuracy: 0.9223 - val_loss: 0.7860 - val_accuracy: 0.7603\n",
      "Epoch 6/100\n",
      "563/563 [==============================] - 1118s 2s/step - loss: 0.1813 - accuracy: 0.9393 - val_loss: 0.6054 - val_accuracy: 0.8073\n",
      "[0.5084832906723022, 0.8388333320617676]\n"
     ]
    }
   ],
   "source": [
    "tbCallBack = TensorBoard(log_dir='logs', histogram_freq=1,\n",
    "                         write_graph=True,\n",
    "                         write_grads=True,\n",
    "                         write_images=True)\n",
    "\n",
    "earlyStopping = tf.keras.callbacks.EarlyStopping(monitor='val_loss', patience=4)\n",
    "\n",
    "opt = keras.optimizers.Adam(learning_rate=0.0001)\n",
    "K.clear_session()\n",
    "model = build_cnn()\n",
    "model.compile(optimizer=opt, loss='sparse_categorical_crossentropy', metrics=['accuracy'])\n",
    "\n",
    "filepath = \"logs/Ex4Epochs:{epoch:03d}-val_acc:{val_acc:.3f}.hdf5\"\n",
    "checkpoint = ModelCheckpoint(filepath, monitor='val_acc', verbose=1, save_best_only=True, mode='max')\n",
    "\n",
    "training_history = model.fit(X_train, y_train, epochs=100, validation_data=(X_val, y_val),batch_size=32, callbacks=[earlyStopping, tbCallBack], shuffle=False)\n",
    "print(model.evaluate(X_test, y_test, verbose=0))"
   ]
  },
  {
   "cell_type": "code",
   "execution_count": 13,
   "metadata": {},
   "outputs": [
    {
     "name": "stdout",
     "output_type": "stream",
     "text": [
      "WARNING:tensorflow:`write_grads` will be ignored in TensorFlow 2.0 for the `TensorBoard` Callback.\n",
      "Epoch 1/100\n",
      "563/563 [==============================] - 1109s 2s/step - loss: 3.5799 - accuracy: 0.0879 - val_loss: 2.3026 - val_accuracy: 0.1000\n",
      "Epoch 2/100\n",
      "563/563 [==============================] - 1110s 2s/step - loss: 2.3037 - accuracy: 0.0838 - val_loss: 2.3026 - val_accuracy: 0.1000\n",
      "Epoch 3/100\n",
      "563/563 [==============================] - 1110s 2s/step - loss: 2.3036 - accuracy: 0.0810 - val_loss: 2.3026 - val_accuracy: 0.1000\n",
      "Epoch 4/100\n",
      "563/563 [==============================] - 1111s 2s/step - loss: 2.3036 - accuracy: 0.0814 - val_loss: 2.3026 - val_accuracy: 0.1000\n",
      "Epoch 5/100\n",
      "563/563 [==============================] - 1111s 2s/step - loss: 2.3036 - accuracy: 0.0814 - val_loss: 2.3026 - val_accuracy: 0.1000\n",
      "Epoch 6/100\n",
      "563/563 [==============================] - 1110s 2s/step - loss: 2.3036 - accuracy: 0.0814 - val_loss: 2.3026 - val_accuracy: 0.1000\n",
      "Epoch 7/100\n",
      "563/563 [==============================] - 1111s 2s/step - loss: 2.3036 - accuracy: 0.0814 - val_loss: 2.3026 - val_accuracy: 0.1000\n",
      "[2.3025965690612793, 0.10000000149011612]\n"
     ]
    }
   ],
   "source": [
    "tbCallBack = TensorBoard(log_dir='logs', histogram_freq=1,\n",
    "                         write_graph=True,\n",
    "                         write_grads=True,\n",
    "                         write_images=True)\n",
    "\n",
    "earlyStopping = tf.keras.callbacks.EarlyStopping(monitor='val_loss', patience=4)\n",
    "\n",
    "opt = keras.optimizers.Adam(learning_rate=0.01)\n",
    "K.clear_session()\n",
    "model = build_cnn()\n",
    "model.compile(optimizer=opt, loss='sparse_categorical_crossentropy', metrics=['accuracy'])\n",
    "\n",
    "filepath = \"logs/Ex5Epochs:{epoch:03d}-val_acc:{val_acc:.3f}.hdf5\"\n",
    "checkpoint = ModelCheckpoint(filepath, monitor='val_acc', verbose=1, save_best_only=True, mode='max')\n",
    "\n",
    "training_history = model.fit(X_train, y_train, epochs=100, validation_data=(X_val, y_val),batch_size=32, callbacks=[earlyStopping, tbCallBack], shuffle=False)\n",
    "print(model.evaluate(X_test, y_test, verbose=0))"
   ]
  },
  {
   "cell_type": "code",
   "execution_count": null,
   "metadata": {},
   "outputs": [],
   "source": []
  }
 ],
 "metadata": {
  "kernelspec": {
   "display_name": "Python 3",
   "language": "python",
   "name": "python3"
  },
  "language_info": {
   "codemirror_mode": {
    "name": "ipython",
    "version": 3
   },
   "file_extension": ".py",
   "mimetype": "text/x-python",
   "name": "python",
   "nbconvert_exporter": "python",
   "pygments_lexer": "ipython3",
   "version": "3.7.6"
  }
 },
 "nbformat": 4,
 "nbformat_minor": 2
}
