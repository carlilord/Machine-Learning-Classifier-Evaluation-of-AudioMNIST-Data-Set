{
 "cells": [
  {
   "cell_type": "code",
   "execution_count": 1,
   "metadata": {},
   "outputs": [],
   "source": [
    "from __future__ import absolute_import, division, print_function, unicode_literals\n",
    "\n",
    "from tensorflow import keras\n",
    "### hack tf-keras to appear as top level keras\n",
    "import sys\n",
    "sys.modules['keras'] = keras\n",
    "### end of hack\n",
    "\n",
    "import keras.backend as K\n",
    "from keras.utils import multi_gpu_model\n",
    "from keras.callbacks import TensorBoard\n",
    "\n",
    "from sklearn.model_selection import KFold\n",
    "\n",
    "import h5py\n",
    "import numpy as np\n",
    "import tensorflow as tf\n",
    "from tensorflow.keras import datasets, layers, models, callbacks\n",
    "from keras.callbacks import *\n",
    "from keras.models import Sequential\n",
    "from keras.layers import Dense, Activation\n",
    "from tensorflow.keras.optimizers import SGD, Adam\n",
    "import numpy as np\n",
    "import pprint\n",
    "import os\n",
    "from os import listdir\n",
    "from os.path import isfile, join\n",
    "from datetime import datetime\n",
    "\n",
    "from sklearn.metrics import confusion_matrix\n",
    "\n",
    "from keras.utils import plot_model\n",
    "import matplotlib.pyplot as plt\n",
    "\n",
    "# Importing custom framework\n",
    "import sys, os\n",
    "sys.path.insert(0, os.path.abspath('../..'))\n",
    "from data_split import prepare_data_spectrogram, return_generators\n",
    "\n",
    "os.environ[\"CUDA_DEVICE_ORDER\"] = \"PCI_BUS_ID\"   # see issue #152\n",
    "os.environ[\"CUDA_VISIBLE_DEVICES\"] = \"\""
   ]
  },
  {
   "cell_type": "code",
   "execution_count": 2,
   "metadata": {},
   "outputs": [],
   "source": [
    "def plot_confusion_matrix(cm,\n",
    "                          target_names=[0,1,2,3,4,5,6,7,8,9],\n",
    "                          title='Confusion matrix',\n",
    "                          cmap=None,\n",
    "                          normalize=True):\n",
    "    \"\"\"\n",
    "    given a sklearn confusion matrix (cm), make a nice plot\n",
    "\n",
    "    Arguments\n",
    "    ---------\n",
    "    cm:           confusion matrix from sklearn.metrics.confusion_matrix\n",
    "\n",
    "    target_names: given classification classes such as [0, 1, 2]\n",
    "                  the class names, for example: ['high', 'medium', 'low']\n",
    "\n",
    "    title:        the text to display at the top of the matrix\n",
    "\n",
    "    cmap:         the gradient of the values displayed from matplotlib.pyplot.cm\n",
    "                  see http://matplotlib.org/examples/color/colormaps_reference.html\n",
    "                  plt.get_cmap('jet') or plt.cm.Blues\n",
    "\n",
    "    normalize:    If False, plot the raw numbers\n",
    "                  If True, plot the proportions\n",
    "\n",
    "    Usage\n",
    "    -----\n",
    "    plot_confusion_matrix(cm           = cm,                  # confusion matrix created by\n",
    "                                                              # sklearn.metrics.confusion_matrix\n",
    "                          normalize    = True,                # show proportions\n",
    "                          target_names = y_labels_vals,       # list of names of the classes\n",
    "                          title        = best_estimator_name) # title of graph\n",
    "\n",
    "    Citiation\n",
    "    ---------\n",
    "    http://scikit-learn.org/stable/auto_examples/model_selection/plot_confusion_matrix.html\n",
    "\n",
    "    \"\"\"\n",
    "    import matplotlib.pyplot as plt\n",
    "    import numpy as np\n",
    "    import itertools\n",
    "\n",
    "    accuracy = np.trace(cm) / float(np.sum(cm))\n",
    "    misclass = 1 - accuracy\n",
    "\n",
    "    if cmap is None:\n",
    "        cmap = plt.get_cmap('Blues')\n",
    "\n",
    "    plt.figure(figsize=(11, 11))\n",
    "    plt.imshow(cm, interpolation='nearest', cmap=cmap)\n",
    "    plt.title(title)\n",
    "    plt.colorbar()\n",
    "\n",
    "    if target_names is not None:\n",
    "        tick_marks = np.arange(len(target_names))\n",
    "        plt.xticks(tick_marks, target_names, rotation=45)\n",
    "        plt.yticks(tick_marks, target_names)\n",
    "\n",
    "    if normalize:\n",
    "        cm = cm.astype('float') / cm.sum(axis=1)[:, np.newaxis]\n",
    "\n",
    "\n",
    "    thresh = cm.max() / 1.5 if normalize else cm.max() / 2\n",
    "    for i, j in itertools.product(range(cm.shape[0]), range(cm.shape[1])):\n",
    "        if normalize:\n",
    "            plt.text(j, i, \"{:0.4f}\".format(cm[i, j]),\n",
    "                     horizontalalignment=\"center\",\n",
    "                     color=\"black\" if cm[i, j] > thresh else \"white\")\n",
    "        else:\n",
    "            plt.text(j, i, \"{:,}\".format(cm[i, j]),\n",
    "                     horizontalalignment=\"center\",\n",
    "                     color=\"black\" if cm[i, j] > thresh else \"white\")\n",
    "\n",
    "\n",
    "    plt.tight_layout()\n",
    "    plt.ylabel('True label')\n",
    "    plt.xlabel('Predicted label\\naccuracy={:0.4f}; misclass={:0.4f}'.format(accuracy, misclass))\n",
    "    plt.show()"
   ]
  },
  {
   "cell_type": "code",
   "execution_count": 3,
   "metadata": {},
   "outputs": [],
   "source": [
    "def build_cnn():\n",
    "    model = keras.models.Sequential([\n",
    "        keras.layers.Conv2D(filters=96, kernel_size=(11,11), strides=(4,4), activation='relu', input_shape=(227,227,1)),\n",
    "        #keras.layers.BatchNormalization(),\n",
    "        keras.layers.MaxPool2D(pool_size=(3,3), strides=(2,2)),\n",
    "        keras.layers.Conv2D(filters=256, kernel_size=(5,5), strides=(1,1), activation='relu', padding=\"same\"),\n",
    "        #keras.layers.BatchNormalization(),\n",
    "        keras.layers.MaxPool2D(pool_size=(3,3), strides=(2,2)),\n",
    "        keras.layers.Conv2D(filters=384, kernel_size=(3,3), strides=(1,1), activation='relu', padding=\"same\"),\n",
    "        #keras.layers.BatchNormalization(),\n",
    "        keras.layers.Conv2D(filters=384, kernel_size=(1,1), strides=(1,1), activation='relu', padding=\"same\"),\n",
    "        #keras.layers.BatchNormalization(),\n",
    "        keras.layers.Conv2D(filters=256, kernel_size=(1,1), strides=(1,1), activation='relu', padding=\"same\"),\n",
    "        #keras.layers.BatchNormalization(),\n",
    "        keras.layers.MaxPool2D(pool_size=(3,3), strides=(2,2)),\n",
    "        keras.layers.Flatten(),\n",
    "        keras.layers.Dense(4096, activation='relu'),\n",
    "        keras.layers.Dropout(0.5),\n",
    "        keras.layers.Dense(4096, activation='relu'),\n",
    "        keras.layers.Dropout(0.5),\n",
    "        keras.layers.Dense(10, activation='softmax')\n",
    "    ])\n",
    "    return model"
   ]
  },
  {
   "cell_type": "code",
   "execution_count": 4,
   "metadata": {},
   "outputs": [
    {
     "name": "stdout",
     "output_type": "stream",
     "text": [
      "(18000, 1, 227, 227)\n"
     ]
    }
   ],
   "source": [
    "spectrogramPath = '../../merged/spectrogram.hdf5'\n",
    "X_train, X_val, X_test, y_train, y_val, y_test = prepare_data_spectrogram(spectrogramPath, False)\n",
    "print(X_train.shape)\n",
    "X_train = tf.transpose(X_train, [0, 2, 3, 1])\n",
    "X_val = tf.transpose(X_val, [0, 2, 3, 1])\n",
    "X_test = tf.transpose(X_test, [0, 2, 3, 1])"
   ]
  },
  {
   "cell_type": "code",
   "execution_count": 5,
   "metadata": {},
   "outputs": [],
   "source": [
    "import gc\n",
    "gc.collect()\n",
    "K.clear_session()\n",
    "tf.compat.v1.reset_default_graph()"
   ]
  },
  {
   "cell_type": "code",
   "execution_count": 6,
   "metadata": {},
   "outputs": [
    {
     "name": "stdout",
     "output_type": "stream",
     "text": [
      "WARNING:tensorflow:`write_grads` will be ignored in TensorFlow 2.0 for the `TensorBoard` Callback.\n"
     ]
    }
   ],
   "source": [
    "tbCallBack = TensorBoard(log_dir='logs', histogram_freq=1,\n",
    "                         write_graph=True,\n",
    "                         write_grads=True,\n",
    "                         write_images=True)\n",
    "\n",
    "earlyStopping = tf.keras.callbacks.EarlyStopping(monitor='val_accuracy', patience=20)"
   ]
  },
  {
   "cell_type": "markdown",
   "metadata": {},
   "source": [
    "# Experiment 1"
   ]
  },
  {
   "cell_type": "code",
   "execution_count": 7,
   "metadata": {},
   "outputs": [],
   "source": [
    "model = build_cnn()\n",
    "plot_model(model, to_file='CNN_Experiment1.png', show_shapes=True, show_layer_names=True)\n",
    "opt = SGD(lr=0.001, momentum=0.9, clipvalue=5)"
   ]
  },
  {
   "cell_type": "code",
   "execution_count": 8,
   "metadata": {},
   "outputs": [
    {
     "name": "stdout",
     "output_type": "stream",
     "text": [
      "Epoch 1/100\n",
      "563/563 [==============================] - 274s 486ms/step - loss: 2.1737 - accuracy: 0.1892 - val_loss: 1.5727 - val_accuracy: 0.4262\n",
      "Epoch 2/100\n",
      "563/563 [==============================] - 272s 482ms/step - loss: 0.8924 - accuracy: 0.6853 - val_loss: 0.8501 - val_accuracy: 0.7360\n",
      "Epoch 3/100\n",
      "563/563 [==============================] - 271s 481ms/step - loss: 0.3542 - accuracy: 0.8835 - val_loss: 1.1351 - val_accuracy: 0.6853\n",
      "Epoch 4/100\n",
      "563/563 [==============================] - 271s 482ms/step - loss: 0.1926 - accuracy: 0.9346 - val_loss: 0.8221 - val_accuracy: 0.7707\n",
      "Epoch 5/100\n",
      "563/563 [==============================] - 270s 480ms/step - loss: 0.1361 - accuracy: 0.9553 - val_loss: 0.6827 - val_accuracy: 0.8355\n",
      "Epoch 6/100\n",
      "563/563 [==============================] - 270s 479ms/step - loss: 0.1049 - accuracy: 0.9649 - val_loss: 0.6051 - val_accuracy: 0.8640\n",
      "Epoch 7/100\n",
      "563/563 [==============================] - 270s 479ms/step - loss: 0.0748 - accuracy: 0.9739 - val_loss: 0.3607 - val_accuracy: 0.9073\n",
      "Epoch 8/100\n",
      "563/563 [==============================] - 270s 479ms/step - loss: 0.0559 - accuracy: 0.9803 - val_loss: 0.3636 - val_accuracy: 0.9177\n",
      "Epoch 9/100\n",
      "563/563 [==============================] - 273s 485ms/step - loss: 0.0465 - accuracy: 0.9843 - val_loss: 0.3245 - val_accuracy: 0.9155\n",
      "Epoch 10/100\n",
      "563/563 [==============================] - 272s 482ms/step - loss: 0.0324 - accuracy: 0.9886 - val_loss: 0.3191 - val_accuracy: 0.9265\n",
      "Epoch 11/100\n",
      "563/563 [==============================] - 269s 478ms/step - loss: 0.0277 - accuracy: 0.9910 - val_loss: 0.2528 - val_accuracy: 0.9430\n",
      "Epoch 12/100\n",
      "563/563 [==============================] - 270s 479ms/step - loss: 0.0240 - accuracy: 0.9910 - val_loss: 0.2531 - val_accuracy: 0.9432\n",
      "Epoch 13/100\n",
      "563/563 [==============================] - 270s 479ms/step - loss: 0.0247 - accuracy: 0.9917 - val_loss: 0.2812 - val_accuracy: 0.9407\n",
      "Epoch 14/100\n",
      "563/563 [==============================] - 269s 478ms/step - loss: 0.0213 - accuracy: 0.9926 - val_loss: 0.2704 - val_accuracy: 0.9418\n",
      "Epoch 15/100\n",
      "563/563 [==============================] - 269s 478ms/step - loss: 0.0147 - accuracy: 0.9954 - val_loss: 0.2404 - val_accuracy: 0.9500\n",
      "Epoch 16/100\n",
      "563/563 [==============================] - 269s 478ms/step - loss: 0.0138 - accuracy: 0.9950 - val_loss: 0.2591 - val_accuracy: 0.9418\n",
      "Epoch 17/100\n",
      "563/563 [==============================] - 269s 478ms/step - loss: 0.0108 - accuracy: 0.9962 - val_loss: 0.2352 - val_accuracy: 0.9507\n",
      "Epoch 18/100\n",
      "563/563 [==============================] - 268s 477ms/step - loss: 0.0123 - accuracy: 0.9959 - val_loss: 0.2455 - val_accuracy: 0.9510\n",
      "Epoch 19/100\n",
      "563/563 [==============================] - 269s 478ms/step - loss: 0.0098 - accuracy: 0.9973 - val_loss: 0.2743 - val_accuracy: 0.9447\n",
      "Epoch 20/100\n",
      "563/563 [==============================] - 273s 484ms/step - loss: 0.0080 - accuracy: 0.9972 - val_loss: 0.2226 - val_accuracy: 0.9528\n",
      "Epoch 21/100\n",
      "563/563 [==============================] - 270s 479ms/step - loss: 0.0106 - accuracy: 0.9969 - val_loss: 0.2885 - val_accuracy: 0.9507\n",
      "Epoch 22/100\n",
      "563/563 [==============================] - 269s 478ms/step - loss: 0.0093 - accuracy: 0.9966 - val_loss: 0.2037 - val_accuracy: 0.9567\n",
      "Epoch 23/100\n",
      "563/563 [==============================] - 269s 478ms/step - loss: 0.0063 - accuracy: 0.9978 - val_loss: 0.1860 - val_accuracy: 0.9618\n",
      "Epoch 24/100\n",
      "563/563 [==============================] - 272s 482ms/step - loss: 0.0050 - accuracy: 0.9983 - val_loss: 0.1913 - val_accuracy: 0.9617\n",
      "Epoch 25/100\n",
      "563/563 [==============================] - 274s 487ms/step - loss: 0.0093 - accuracy: 0.9970 - val_loss: 0.2887 - val_accuracy: 0.9453\n",
      "Epoch 26/100\n",
      "563/563 [==============================] - 270s 480ms/step - loss: 0.0051 - accuracy: 0.9982 - val_loss: 0.2655 - val_accuracy: 0.9500\n",
      "Epoch 27/100\n",
      "563/563 [==============================] - 270s 479ms/step - loss: 0.0067 - accuracy: 0.9980 - val_loss: 0.2268 - val_accuracy: 0.9575\n",
      "Epoch 28/100\n",
      "563/563 [==============================] - 269s 477ms/step - loss: 0.0046 - accuracy: 0.9985 - val_loss: 0.1781 - val_accuracy: 0.9603\n",
      "Epoch 29/100\n",
      "563/563 [==============================] - 269s 478ms/step - loss: 0.0043 - accuracy: 0.9984 - val_loss: 0.1821 - val_accuracy: 0.9635\n",
      "Epoch 30/100\n",
      "563/563 [==============================] - 268s 476ms/step - loss: 0.0028 - accuracy: 0.9993 - val_loss: 0.2897 - val_accuracy: 0.9483\n",
      "Epoch 31/100\n",
      "563/563 [==============================] - 269s 478ms/step - loss: 0.0045 - accuracy: 0.9984 - val_loss: 0.2316 - val_accuracy: 0.9565\n",
      "Epoch 32/100\n",
      "563/563 [==============================] - 269s 478ms/step - loss: 0.0033 - accuracy: 0.9987 - val_loss: 0.3212 - val_accuracy: 0.9452\n",
      "Epoch 33/100\n",
      "563/563 [==============================] - 268s 476ms/step - loss: 0.0030 - accuracy: 0.9991 - val_loss: 0.2410 - val_accuracy: 0.9557\n",
      "Epoch 34/100\n",
      "563/563 [==============================] - 269s 478ms/step - loss: 0.0018 - accuracy: 0.9994 - val_loss: 0.2107 - val_accuracy: 0.9620\n",
      "Epoch 35/100\n",
      "563/563 [==============================] - 270s 480ms/step - loss: 0.0021 - accuracy: 0.9991 - val_loss: 0.3051 - val_accuracy: 0.9500\n",
      "Epoch 36/100\n",
      "563/563 [==============================] - 272s 482ms/step - loss: 0.0010 - accuracy: 0.9994 - val_loss: 0.2193 - val_accuracy: 0.9620\n",
      "Epoch 37/100\n",
      "563/563 [==============================] - 272s 482ms/step - loss: 0.0028 - accuracy: 0.9993 - val_loss: 0.2583 - val_accuracy: 0.9552\n",
      "Epoch 38/100\n",
      "563/563 [==============================] - 270s 479ms/step - loss: 7.6866e-04 - accuracy: 0.9997 - val_loss: 0.1980 - val_accuracy: 0.9655\n",
      "Epoch 39/100\n",
      "563/563 [==============================] - 268s 476ms/step - loss: 0.0016 - accuracy: 0.9996 - val_loss: 0.2549 - val_accuracy: 0.9520\n",
      "Epoch 40/100\n",
      "563/563 [==============================] - 270s 480ms/step - loss: 0.0029 - accuracy: 0.9988 - val_loss: 0.1912 - val_accuracy: 0.9630\n",
      "Epoch 41/100\n",
      "563/563 [==============================] - 271s 482ms/step - loss: 0.0018 - accuracy: 0.9993 - val_loss: 0.2429 - val_accuracy: 0.9590\n",
      "Epoch 42/100\n",
      "563/563 [==============================] - 271s 481ms/step - loss: 0.0011 - accuracy: 0.9997 - val_loss: 0.2554 - val_accuracy: 0.9600\n",
      "Epoch 43/100\n",
      "563/563 [==============================] - 271s 482ms/step - loss: 8.8766e-04 - accuracy: 0.9998 - val_loss: 0.2850 - val_accuracy: 0.9553\n",
      "Epoch 44/100\n",
      "563/563 [==============================] - 271s 482ms/step - loss: 0.0010 - accuracy: 0.9997 - val_loss: 0.2618 - val_accuracy: 0.9592\n",
      "Epoch 45/100\n",
      "563/563 [==============================] - 272s 482ms/step - loss: 0.0016 - accuracy: 0.9994 - val_loss: 0.2333 - val_accuracy: 0.9590\n",
      "Epoch 46/100\n",
      "563/563 [==============================] - 272s 483ms/step - loss: 0.0026 - accuracy: 0.9989 - val_loss: 0.2165 - val_accuracy: 0.9650\n",
      "Epoch 47/100\n",
      "563/563 [==============================] - 271s 482ms/step - loss: 8.8504e-04 - accuracy: 0.9998 - val_loss: 0.3181 - val_accuracy: 0.9510\n",
      "Epoch 48/100\n",
      "563/563 [==============================] - 269s 478ms/step - loss: 0.0011 - accuracy: 0.9997 - val_loss: 0.2339 - val_accuracy: 0.9645\n",
      "Epoch 49/100\n",
      "563/563 [==============================] - 268s 477ms/step - loss: 0.0018 - accuracy: 0.9994 - val_loss: 0.2314 - val_accuracy: 0.9655\n",
      "Epoch 50/100\n",
      "563/563 [==============================] - 268s 476ms/step - loss: 8.1468e-04 - accuracy: 0.9997 - val_loss: 0.2321 - val_accuracy: 0.9622\n",
      "Epoch 51/100\n",
      "563/563 [==============================] - 268s 476ms/step - loss: 0.0012 - accuracy: 0.9996 - val_loss: 0.2748 - val_accuracy: 0.9565\n",
      "Epoch 52/100\n",
      "563/563 [==============================] - 269s 477ms/step - loss: 0.0017 - accuracy: 0.9994 - val_loss: 0.2060 - val_accuracy: 0.9668\n",
      "Epoch 53/100\n",
      "563/563 [==============================] - 268s 477ms/step - loss: 0.0036 - accuracy: 0.9989 - val_loss: 0.3261 - val_accuracy: 0.9468\n",
      "Epoch 54/100\n",
      "563/563 [==============================] - 268s 476ms/step - loss: 0.0016 - accuracy: 0.9993 - val_loss: 0.2502 - val_accuracy: 0.9612\n",
      "Epoch 55/100\n",
      "563/563 [==============================] - 268s 476ms/step - loss: 0.0011 - accuracy: 0.9994 - val_loss: 0.2894 - val_accuracy: 0.9562\n",
      "Epoch 56/100\n"
     ]
    },
    {
     "name": "stdout",
     "output_type": "stream",
     "text": [
      "563/563 [==============================] - 268s 476ms/step - loss: 0.0021 - accuracy: 0.9993 - val_loss: 0.2489 - val_accuracy: 0.9632\n",
      "Epoch 57/100\n",
      "563/563 [==============================] - 268s 476ms/step - loss: 0.0030 - accuracy: 0.9991 - val_loss: 0.2631 - val_accuracy: 0.9592\n",
      "Epoch 58/100\n",
      "563/563 [==============================] - 268s 476ms/step - loss: 0.0015 - accuracy: 0.9994 - val_loss: 0.3154 - val_accuracy: 0.9517\n",
      "Epoch 59/100\n",
      "563/563 [==============================] - 268s 476ms/step - loss: 8.5532e-04 - accuracy: 0.9998 - val_loss: 0.2210 - val_accuracy: 0.9645\n",
      "Epoch 60/100\n",
      "563/563 [==============================] - 268s 476ms/step - loss: 0.0015 - accuracy: 0.9996 - val_loss: 0.2580 - val_accuracy: 0.9640\n",
      "Epoch 61/100\n",
      "563/563 [==============================] - 268s 477ms/step - loss: 3.4548e-04 - accuracy: 0.9999 - val_loss: 0.2330 - val_accuracy: 0.9677\n",
      "Epoch 62/100\n",
      "563/563 [==============================] - 268s 476ms/step - loss: 0.0011 - accuracy: 0.9997 - val_loss: 0.2389 - val_accuracy: 0.9525\n",
      "Epoch 63/100\n",
      "563/563 [==============================] - 268s 475ms/step - loss: 0.0014 - accuracy: 0.9996 - val_loss: 0.2286 - val_accuracy: 0.9668\n",
      "Epoch 64/100\n",
      "563/563 [==============================] - 267s 475ms/step - loss: 2.9468e-04 - accuracy: 0.9999 - val_loss: 0.2408 - val_accuracy: 0.9645\n",
      "Epoch 65/100\n",
      "563/563 [==============================] - 268s 476ms/step - loss: 2.9990e-04 - accuracy: 0.9999 - val_loss: 0.2415 - val_accuracy: 0.9652\n",
      "Epoch 66/100\n",
      "563/563 [==============================] - 268s 476ms/step - loss: 3.6781e-04 - accuracy: 0.9999 - val_loss: 0.2222 - val_accuracy: 0.9662\n",
      "Epoch 67/100\n",
      "563/563 [==============================] - 267s 475ms/step - loss: 6.6203e-05 - accuracy: 1.0000 - val_loss: 0.2348 - val_accuracy: 0.9667\n",
      "Epoch 68/100\n",
      "563/563 [==============================] - 267s 475ms/step - loss: 0.0015 - accuracy: 0.9993 - val_loss: 0.3510 - val_accuracy: 0.9553\n",
      "Epoch 69/100\n",
      "563/563 [==============================] - 268s 476ms/step - loss: 0.0012 - accuracy: 0.9996 - val_loss: 0.2892 - val_accuracy: 0.9595\n",
      "Epoch 70/100\n",
      "563/563 [==============================] - 267s 475ms/step - loss: 7.6083e-04 - accuracy: 0.9999 - val_loss: 0.2732 - val_accuracy: 0.9590\n",
      "Epoch 71/100\n",
      "563/563 [==============================] - 268s 475ms/step - loss: 0.0013 - accuracy: 0.9994 - val_loss: 0.2054 - val_accuracy: 0.9673\n",
      "Epoch 72/100\n",
      "563/563 [==============================] - 268s 476ms/step - loss: 3.0924e-04 - accuracy: 0.9999 - val_loss: 0.2753 - val_accuracy: 0.9588\n",
      "Epoch 73/100\n",
      "563/563 [==============================] - 267s 474ms/step - loss: 3.7589e-04 - accuracy: 0.9998 - val_loss: 0.2603 - val_accuracy: 0.9613\n",
      "Epoch 74/100\n",
      "563/563 [==============================] - 268s 476ms/step - loss: 1.6605e-04 - accuracy: 0.9999 - val_loss: 0.2113 - val_accuracy: 0.9670\n",
      "Epoch 75/100\n",
      "563/563 [==============================] - 267s 475ms/step - loss: 7.8504e-04 - accuracy: 0.9997 - val_loss: 0.2344 - val_accuracy: 0.9628\n",
      "Epoch 76/100\n",
      "563/563 [==============================] - 268s 476ms/step - loss: 3.3700e-04 - accuracy: 1.0000 - val_loss: 0.2295 - val_accuracy: 0.9647\n",
      "Epoch 77/100\n",
      "563/563 [==============================] - 267s 474ms/step - loss: 0.0014 - accuracy: 0.9996 - val_loss: 0.2451 - val_accuracy: 0.9655\n",
      "Epoch 78/100\n",
      "563/563 [==============================] - 268s 475ms/step - loss: 5.7563e-04 - accuracy: 0.9997 - val_loss: 0.2701 - val_accuracy: 0.9608\n",
      "Epoch 79/100\n",
      "563/563 [==============================] - 267s 475ms/step - loss: 5.4936e-04 - accuracy: 0.9998 - val_loss: 0.2753 - val_accuracy: 0.9617\n",
      "Epoch 80/100\n",
      "563/563 [==============================] - 267s 474ms/step - loss: 5.8090e-04 - accuracy: 0.9998 - val_loss: 0.2584 - val_accuracy: 0.9648\n",
      "Epoch 81/100\n",
      "563/563 [==============================] - 268s 476ms/step - loss: 9.8521e-04 - accuracy: 0.9994 - val_loss: 0.2132 - val_accuracy: 0.9648\n"
     ]
    },
    {
     "ename": "NameError",
     "evalue": "name 'val_score' is not defined",
     "output_type": "error",
     "traceback": [
      "\u001b[0;31m---------------------------------------------------------------------------\u001b[0m",
      "\u001b[0;31mNameError\u001b[0m                                 Traceback (most recent call last)",
      "\u001b[0;32m<ipython-input-8-202446277112>\u001b[0m in \u001b[0;36m<module>\u001b[0;34m\u001b[0m\n\u001b[1;32m      8\u001b[0m \u001b[0;34m\u001b[0m\u001b[0m\n\u001b[1;32m      9\u001b[0m \u001b[0mval_scores\u001b[0m \u001b[0;34m=\u001b[0m \u001b[0mmodel\u001b[0m\u001b[0;34m.\u001b[0m\u001b[0mevaluate\u001b[0m\u001b[0;34m(\u001b[0m\u001b[0mX_val\u001b[0m\u001b[0;34m,\u001b[0m \u001b[0my_val\u001b[0m\u001b[0;34m,\u001b[0m \u001b[0mverbose\u001b[0m\u001b[0;34m=\u001b[0m\u001b[0;36m0\u001b[0m\u001b[0;34m)\u001b[0m\u001b[0;34m\u001b[0m\u001b[0;34m\u001b[0m\u001b[0m\n\u001b[0;32m---> 10\u001b[0;31m \u001b[0mprint\u001b[0m\u001b[0;34m(\u001b[0m\u001b[0mval_score\u001b[0m\u001b[0;34m)\u001b[0m\u001b[0;34m\u001b[0m\u001b[0;34m\u001b[0m\u001b[0m\n\u001b[0m",
      "\u001b[0;31mNameError\u001b[0m: name 'val_score' is not defined"
     ]
    }
   ],
   "source": [
    "K.clear_session()\n",
    "model.compile(optimizer=opt, loss='sparse_categorical_crossentropy', metrics=['accuracy'])\n",
    "\n",
    "filepath = \"logs/epochs:{epoch:03d}-val_acc:{val_acc:.3f}.hdf5\"\n",
    "checkpoint = ModelCheckpoint(filepath, monitor='val_acc', verbose=1, save_best_only=True, mode='max')\n",
    "\n",
    "training_history = model.fit(X_train, y_train, epochs=100, validation_data=(X_val, y_val),batch_size=32, callbacks=[earlyStopping, tbCallBack], shuffle=False)\n",
    "\n",
    "val_scores = model.evaluate(X_val, y_val, verbose=0)\n",
    "print(val_scores)"
   ]
  },
  {
   "cell_type": "code",
   "execution_count": null,
   "metadata": {},
   "outputs": [],
   "source": [
    "cm = confusion_matrix(y_true=y_val, y_pred=np.argmax(model.predict(X_val), axis=-1))\n",
    "plot_confusion_matrix(cm, cmap='plasma')"
   ]
  },
  {
   "cell_type": "code",
   "execution_count": null,
   "metadata": {},
   "outputs": [],
   "source": [
    "print(model.evaluate(X_test, y_test, verbose=0))"
   ]
  },
  {
   "cell_type": "markdown",
   "metadata": {},
   "source": [
    "# Experiment 2"
   ]
  },
  {
   "cell_type": "code",
   "execution_count": null,
   "metadata": {},
   "outputs": [],
   "source": [
    "model = build_cnn()\n",
    "#plot_model(model, to_file='CNN_Experiment2.png', show_shapes=True, show_layer_names=True)\n",
    "opt = Adam(learning_rate=0.001)"
   ]
  },
  {
   "cell_type": "code",
   "execution_count": null,
   "metadata": {},
   "outputs": [],
   "source": [
    "K.clear_session()\n",
    "model.compile(optimizer=opt, loss='sparse_categorical_crossentropy', metrics=['accuracy'])\n",
    "\n",
    "filepath = \"logs/epochs:{epoch:03d}-val_acc:{val_acc:.3f}.hdf5\"\n",
    "checkpoint = ModelCheckpoint(filepath, monitor='val_acc', verbose=1, save_best_only=True, mode='max')\n",
    "\n",
    "training_history = model.fit(X_train, y_train, epochs=100, validation_data=(X_val, y_val),batch_size=32, callbacks=[earlyStopping, tbCallBack], shuffle=False)\n",
    "\n",
    "val_scores = model.evaluate(X_val, y_val, verbose=0)\n",
    "print(val_scores)"
   ]
  },
  {
   "cell_type": "code",
   "execution_count": null,
   "metadata": {},
   "outputs": [],
   "source": [
    "cm = confusion_matrix(y_true=y_val, y_pred=np.argmax(model.predict(X_val), axis=-1))\n",
    "plot_confusion_matrix(cm, cmap='plasma')"
   ]
  },
  {
   "cell_type": "code",
   "execution_count": null,
   "metadata": {
    "scrolled": true
   },
   "outputs": [],
   "source": [
    "print(model.evaluate(X_test, y_test, verbose=0))"
   ]
  },
  {
   "cell_type": "markdown",
   "metadata": {},
   "source": [
    "# Experiment 3"
   ]
  },
  {
   "cell_type": "code",
   "execution_count": null,
   "metadata": {},
   "outputs": [],
   "source": [
    "model = keras.models.Sequential([\n",
    "        keras.layers.Conv2D(filters=96, kernel_size=(11,11), strides=(4,4), activation='relu', input_shape=(227,227,1)),\n",
    "        keras.layers.MaxPool2D(pool_size=(3,3), strides=(2,2)),\n",
    "        keras.layers.Conv2D(filters=256, kernel_size=(5,5), strides=(1,1), activation='relu', padding=\"same\"),\n",
    "        keras.layers.MaxPool2D(pool_size=(3,3), strides=(2,2)),\n",
    "        keras.layers.Conv2D(filters=384, kernel_size=(3,3), strides=(1,1), activation='relu', padding=\"same\"),\n",
    "        keras.layers.MaxPool2D(pool_size=(3,3), strides=(2,2)),\n",
    "        keras.layers.Conv2D(filters=384, kernel_size=(1,1), strides=(1,1), activation='relu', padding=\"same\"),\n",
    "        keras.layers.MaxPool2D(pool_size=(3,3), strides=(2,2)),\n",
    "        keras.layers.Conv2D(filters=256, kernel_size=(1,1), strides=(1,1), activation='relu', padding=\"same\"),\n",
    "        keras.layers.MaxPool2D(pool_size=(3,3), strides=(2,2)),\n",
    "        keras.layers.Conv2D(filters=256, kernel_size=(1,1), strides=(1,1), activation='relu', padding=\"same\"),\n",
    "        keras.layers.MaxPool2D(pool_size=(3,3), strides=(2,2)),\n",
    "        keras.layers.Flatten(),\n",
    "        keras.layers.Dense(4096, activation='relu'),\n",
    "        keras.layers.Dropout(0.5),\n",
    "        keras.layers.Dense(4096, activation='relu'),\n",
    "        keras.layers.Dropout(0.5),\n",
    "        keras.layers.Dense(512, activation='relu'),\n",
    "        keras.layers.Dropout(0.5),\n",
    "        keras.layers.Dense(10, activation='softmax')\n",
    "    ])\n",
    "plot_model(model, to_file='CNN_Experiment3.png', show_shapes=True, show_layer_names=True)\n",
    "opt = Adam(learning_rate=0.001)"
   ]
  },
  {
   "cell_type": "code",
   "execution_count": null,
   "metadata": {},
   "outputs": [],
   "source": [
    "K.clear_session()\n",
    "model.compile(optimizer=opt, loss='sparse_categorical_crossentropy', metrics=['accuracy'])\n",
    "\n",
    "filepath = \"logs/epochs:{epoch:03d}-val_acc:{val_acc:.3f}.hdf5\"\n",
    "checkpoint = ModelCheckpoint(filepath, monitor='val_acc', verbose=1, save_best_only=True, mode='max')\n",
    "\n",
    "training_history = model.fit(X_train, y_train, epochs=100, validation_data=(X_val, y_val),batch_size=32, callbacks=[earlyStopping, tbCallBack], shuffle=False)\n",
    "\n",
    "val_scores = model.evaluate(X_val, y_val, verbose=0)\n",
    "print(val_scores)"
   ]
  },
  {
   "cell_type": "code",
   "execution_count": null,
   "metadata": {},
   "outputs": [],
   "source": [
    "cm = confusion_matrix(y_true=y_val, y_pred=np.argmax(model.predict(X_val), axis=-1))\n",
    "plot_confusion_matrix(cm, cmap='plasma')"
   ]
  },
  {
   "cell_type": "code",
   "execution_count": null,
   "metadata": {
    "scrolled": true
   },
   "outputs": [],
   "source": [
    "print(model.evaluate(X_test, y_test, verbose=0))"
   ]
  },
  {
   "cell_type": "markdown",
   "metadata": {},
   "source": [
    "# Experiment 4"
   ]
  },
  {
   "cell_type": "code",
   "execution_count": null,
   "metadata": {},
   "outputs": [],
   "source": [
    "model = keras.models.Sequential([\n",
    "        keras.layers.Conv2D(filters=96, kernel_size=(11,11), strides=(4,4), activation='relu', input_shape=(227,227,1)),\n",
    "        keras.layers.MaxPool2D(pool_size=(3,3), strides=(2,2)),\n",
    "        keras.layers.Conv2D(filters=256, kernel_size=(5,5), strides=(1,1), activation='relu', padding=\"same\"),\n",
    "        keras.layers.MaxPool2D(pool_size=(3,3), strides=(2,2)),\n",
    "        keras.layers.Conv2D(filters=384, kernel_size=(3,3), strides=(1,1), activation='relu', padding=\"same\"),\n",
    "        keras.layers.MaxPool2D(pool_size=(3,3), strides=(2,2)),\n",
    "        keras.layers.Conv2D(filters=384, kernel_size=(1,1), strides=(1,1), activation='relu', padding=\"same\"),\n",
    "        keras.layers.MaxPool2D(pool_size=(3,3), strides=(2,2)),\n",
    "        keras.layers.Conv2D(filters=256, kernel_size=(1,1), strides=(1,1), activation='relu', padding=\"same\"),\n",
    "        keras.layers.MaxPool2D(pool_size=(3,3), strides=(2,2)),\n",
    "        keras.layers.Conv2D(filters=256, kernel_size=(1,1), strides=(1,1), activation='relu', padding=\"same\"),\n",
    "        keras.layers.MaxPool2D(pool_size=(3,3), strides=(2,2)),\n",
    "        keras.layers.Flatten(),\n",
    "        keras.layers.Dense(4096, activation='relu'),\n",
    "        keras.layers.Dropout(0.5),\n",
    "        keras.layers.Dense(4096, activation='relu'),\n",
    "        keras.layers.Dropout(0.5),\n",
    "        keras.layers.Dense(512, activation='relu'),\n",
    "        keras.layers.Dropout(0.5),\n",
    "        keras.layers.Dense(10, activation='softmax')\n",
    "    ])\n",
    "#plot_model(model, to_file='CNN_Experiment3.png', show_shapes=True, show_layer_names=True)\n",
    "opt = Adam(learning_rate=0.01)"
   ]
  },
  {
   "cell_type": "code",
   "execution_count": null,
   "metadata": {},
   "outputs": [],
   "source": [
    "K.clear_session()\n",
    "model.compile(optimizer=opt, loss='sparse_categorical_crossentropy', metrics=['accuracy'])\n",
    "\n",
    "filepath = \"logs/epochs:{epoch:03d}-val_acc:{val_acc:.3f}.hdf5\"\n",
    "checkpoint = ModelCheckpoint(filepath, monitor='val_acc', verbose=1, save_best_only=True, mode='max')\n",
    "\n",
    "training_history = model.fit(X_train, y_train, epochs=100, validation_data=(X_val, y_val),batch_size=32, callbacks=[earlyStopping, tbCallBack], shuffle=False)\n",
    "\n",
    "val_scores = model.evaluate(X_val, y_val, verbose=0)\n",
    "print(val_scores)"
   ]
  },
  {
   "cell_type": "code",
   "execution_count": null,
   "metadata": {},
   "outputs": [],
   "source": [
    "cm = confusion_matrix(y_true=y_val, y_pred=np.argmax(model.predict(X_val), axis=-1))\n",
    "plot_confusion_matrix(cm, cmap='plasma')"
   ]
  },
  {
   "cell_type": "code",
   "execution_count": null,
   "metadata": {},
   "outputs": [],
   "source": [
    "print(model.evaluate(X_test, y_test, verbose=0))"
   ]
  },
  {
   "cell_type": "markdown",
   "metadata": {},
   "source": [
    "# Experiment 5"
   ]
  },
  {
   "cell_type": "code",
   "execution_count": null,
   "metadata": {},
   "outputs": [],
   "source": [
    "model = keras.models.Sequential([\n",
    "        keras.layers.Conv2D(filters=96, kernel_size=(11,11), strides=(4,4), activation='relu', input_shape=(227,227,1)),\n",
    "        keras.layers.MaxPool2D(pool_size=(3,3), strides=(2,2)),\n",
    "        keras.layers.Conv2D(filters=256, kernel_size=(5,5), strides=(1,1), activation='relu', padding=\"same\"),\n",
    "        keras.layers.MaxPool2D(pool_size=(3,3), strides=(2,2)),\n",
    "        keras.layers.Conv2D(filters=384, kernel_size=(3,3), strides=(1,1), activation='relu', padding=\"same\"),\n",
    "        keras.layers.MaxPool2D(pool_size=(3,3), strides=(2,2)),\n",
    "        keras.layers.Conv2D(filters=384, kernel_size=(1,1), strides=(1,1), activation='relu', padding=\"same\"),\n",
    "        keras.layers.MaxPool2D(pool_size=(3,3), strides=(2,2)),\n",
    "        keras.layers.Conv2D(filters=256, kernel_size=(1,1), strides=(1,1), activation='relu', padding=\"same\"),\n",
    "        keras.layers.MaxPool2D(pool_size=(3,3), strides=(2,2)),\n",
    "        keras.layers.Conv2D(filters=256, kernel_size=(1,1), strides=(1,1), activation='relu', padding=\"same\"),\n",
    "        keras.layers.MaxPool2D(pool_size=(3,3), strides=(2,2)),\n",
    "        keras.layers.Flatten(),\n",
    "        keras.layers.Dense(4096, activation='relu'),\n",
    "        keras.layers.Dropout(0.5),\n",
    "        keras.layers.Dense(4096, activation='relu'),\n",
    "        keras.layers.Dropout(0.5),\n",
    "        keras.layers.Dense(512, activation='relu'),\n",
    "        keras.layers.Dropout(0.5),\n",
    "        keras.layers.Dense(10, activation='softmax')\n",
    "    ])\n",
    "#plot_model(model, to_file='CNN_Experiment3.png', show_shapes=True, show_layer_names=True)\n",
    "opt = Adam(learning_rate=0.0001)"
   ]
  },
  {
   "cell_type": "code",
   "execution_count": null,
   "metadata": {},
   "outputs": [],
   "source": [
    "K.clear_session()\n",
    "model.compile(optimizer=opt, loss='sparse_categorical_crossentropy', metrics=['accuracy'])\n",
    "\n",
    "filepath = \"logs/epochs:{epoch:03d}-val_acc:{val_acc:.3f}.hdf5\"\n",
    "checkpoint = ModelCheckpoint(filepath, monitor='val_acc', verbose=1, save_best_only=True, mode='max')\n",
    "\n",
    "training_history = model.fit(X_train, y_train, epochs=100, validation_data=(X_val, y_val),batch_size=32, callbacks=[earlyStopping, tbCallBack], shuffle=False)\n",
    "\n",
    "val_scores = model.evaluate(X_val, y_val, verbose=0)\n",
    "print(val_scores)"
   ]
  },
  {
   "cell_type": "code",
   "execution_count": null,
   "metadata": {},
   "outputs": [],
   "source": [
    "cm = confusion_matrix(y_true=y_val, y_pred=np.argmax(model.predict(X_val), axis=-1))\n",
    "plot_confusion_matrix(cm, cmap='plasma')"
   ]
  },
  {
   "cell_type": "code",
   "execution_count": null,
   "metadata": {},
   "outputs": [],
   "source": [
    "print(model.evaluate(X_test, y_test, verbose=0))"
   ]
  },
  {
   "cell_type": "code",
   "execution_count": null,
   "metadata": {},
   "outputs": [],
   "source": []
  },
  {
   "cell_type": "code",
   "execution_count": null,
   "metadata": {},
   "outputs": [],
   "source": []
  }
 ],
 "metadata": {
  "kernelspec": {
   "display_name": "Python 3",
   "language": "python",
   "name": "python3"
  },
  "language_info": {
   "codemirror_mode": {
    "name": "ipython",
    "version": 3
   },
   "file_extension": ".py",
   "mimetype": "text/x-python",
   "name": "python",
   "nbconvert_exporter": "python",
   "pygments_lexer": "ipython3",
   "version": "3.8.3"
  }
 },
 "nbformat": 4,
 "nbformat_minor": 2
}
